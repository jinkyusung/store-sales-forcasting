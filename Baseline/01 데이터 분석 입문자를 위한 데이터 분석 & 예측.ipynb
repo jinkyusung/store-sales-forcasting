{
 "cells": [
  {
   "cell_type": "code",
   "execution_count": null,
   "id": "86adc22e",
   "metadata": {},
   "outputs": [],
   "source": [
    "\"\"\"\n",
    "1. train.csv : 학습 데이터\n",
    "    \n",
    "    id : 샘플 아이디\n",
    "    Store : 쇼핑몰 지점\n",
    "    Date : 주 단위(Weekly) 날짜\n",
    "    Temperature : 해당 쇼핑몰 주변 기온\n",
    "    Fuel_Price : 해당 쇼핑몰 주변 연료 가격\n",
    "    Promotion 1~5 : 해당 쇼핑몰의 비식별화된 프로모션 정보\n",
    "    Unemployment : 해당 쇼핑몰 지역의 실업률\n",
    "    IsHoliday : 해당 기간의 공휴일 포함 여부\n",
    "    Weekly_Sales : 주간 매출액 (목표 예측값)\n",
    "\n",
    "\n",
    "2. test.csv : 테스트 데이터\n",
    "    \n",
    "    id : 샘플 아이디\n",
    "    Store : 쇼핑몰 지점\n",
    "    Date : 주 단위(Weekly) 날짜\n",
    "    Temperature : 해당 쇼핑몰 주변 기온\n",
    "    Fuel_Price : 해당 쇼핑몰 주변 연료 가격\n",
    "    Promotion 1~5 : 해당 쇼핑몰의 비식별화된 프로모션 정보\n",
    "    Unemployment : 해당 쇼핑몰 지역의 실업률\n",
    "    IsHoliday : 해당 기간의 공휴일 포함 여부\n",
    "\n",
    "\n",
    "3. sample_submission.csv : 제출 양식\n",
    "\n",
    "    id : 샘플 아이디\n",
    "    Weekly_Sales : 주간 매출액 (목표 예측값)\n",
    "\n",
    "\"\"\""
   ]
  },
  {
   "cell_type": "code",
   "execution_count": 2,
   "id": "f2ac7861",
   "metadata": {},
   "outputs": [
    {
     "name": "stdout",
     "output_type": "stream",
     "text": [
      "----------------------prediction - top10--------------------\n",
      "\n",
      "[[1478725.86563212]\n",
      " [1458642.69184098]\n",
      " [1385057.5442669 ]\n",
      " [1386968.69526384]\n",
      " [1441559.23358184]\n",
      " [1512328.69693803]\n",
      " [1413553.13866929]\n",
      " [1436668.54577194]\n",
      " [1331610.18145984]\n",
      " [1322066.88718821]]\n"
     ]
    }
   ],
   "source": [
    "import pandas as pd\n",
    "\n",
    "\n",
    "train = pd.read_csv(\"../dataset/train.csv\")\n",
    "test = pd.read_csv(\"../dataset/test.csv\")\n",
    "\n",
    "\n",
    "########## Data preprocessing ##########\n",
    "\n",
    "# N/A processing\n",
    "train = train.fillna(0)\n",
    "test = test.fillna(0)\n",
    "\n",
    "# Make \"Month\" column using \"Date\"\n",
    "def get_month(date):\n",
    "    month = date[3:5]\n",
    "    month = int(month)\n",
    "    return month\n",
    "\n",
    "train['Month'] = train['Date'].apply(get_month)\n",
    "test['Month'] = test['Date'].apply(get_month)\n",
    "\n",
    "\n",
    "########## Modeling ##########\n",
    "from sklearn.linear_model import LinearRegression\n",
    "\n",
    "\n",
    "model = LinearRegression()\n",
    "\n",
    "train = train.drop(columns=['id','Date','IsHoliday'])\n",
    "test = test.drop(columns=['id','Date','IsHoliday'])\n",
    "\n",
    "x_train = train.drop(columns=['Weekly_Sales'])\n",
    "y_train = train[['Weekly_Sales']]\n",
    "\n",
    "model.fit(x_train, y_train)\n",
    "prediction = model.predict(test)\n",
    "print('----------------------prediction - top10--------------------\\n')\n",
    "print(prediction[:10])"
   ]
  },
  {
   "cell_type": "code",
   "execution_count": null,
   "id": "1b7aa11e",
   "metadata": {},
   "outputs": [],
   "source": []
  }
 ],
 "metadata": {
  "kernelspec": {
   "display_name": "Python 3 (ipykernel)",
   "language": "python",
   "name": "python3"
  },
  "language_info": {
   "codemirror_mode": {
    "name": "ipython",
    "version": 3
   },
   "file_extension": ".py",
   "mimetype": "text/x-python",
   "name": "python",
   "nbconvert_exporter": "python",
   "pygments_lexer": "ipython3",
   "version": "3.9.12"
  }
 },
 "nbformat": 4,
 "nbformat_minor": 5
}

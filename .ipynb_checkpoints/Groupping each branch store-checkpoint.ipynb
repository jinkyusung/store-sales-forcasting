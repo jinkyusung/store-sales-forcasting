{
 "cells": [
  {
   "cell_type": "markdown",
   "id": "5062b14e",
   "metadata": {},
   "source": [
    "## Calculate Mean, Median and Skewness to group each branch store\n",
    "\n",
    "In `Correlation analysis.ipynb`, Consider an idea that there are **three group(A, B, C)** splited by their each `Weekly_Sales` value.  \n",
    "Below python code calculates __<span style='background-color: #ffdce0'>Mean</span>__, __<span style='background-color: #ffdce0'>Median</span>__ and __<span style='background-color: #ffdce0'>Skewness</span>__ for each Store.\n",
    "\n",
    "###### Reference\n",
    "<U>Skewness</U> in Statistical distribution : https://www.scribbr.com/statistics/skewness/"
   ]
  },
  {
   "cell_type": "code",
   "execution_count": 41,
   "id": "7819a029",
   "metadata": {},
   "outputs": [
    {
     "ename": "SyntaxError",
     "evalue": "invalid syntax (2777716561.py, line 20)",
     "output_type": "error",
     "traceback": [
      "\u001b[1;36m  Input \u001b[1;32mIn [41]\u001b[1;36m\u001b[0m\n\u001b[1;33m    for i in range(1, store_num + 1):\u001b[0m\n\u001b[1;37m                                    ^\u001b[0m\n\u001b[1;31mSyntaxError\u001b[0m\u001b[1;31m:\u001b[0m invalid syntax\n"
     ]
    }
   ],
   "source": [
    "import pandas as pd\n",
    "from collections import defaultdict\n",
    "\n",
    "\n",
    "train = pd.read_csv(\"dataset/train.csv\")\n",
    "tmp = pd.DataFrame()\n",
    "tmp[\"Weekly_Sales\"] = train[\"Weekly_Sales\"]\n",
    "tmp[\"Store\"] = train[\"Store\"]\n",
    "\n",
    "\n",
    "# A sales[i] is the list of Weekly_Sales values of Store 'i'.\n",
    "sales = defaultdict(list)\n",
    "for i in range(len(tmp)):\n",
    "    sales[tmp.loc[i][\"Store\"]].append(tmp.loc[i][\"Weekly_Sales\"])\n",
    "\n",
    "    \n",
    "# Calculates Mean, Median, and Skewness.\n",
    "store_num = train[\"Store\"].max()\n",
    "result = pd.DataFrame(index=list(1, range(1, store_num + 1), columns=[\"Mean\", \"Median\", \"Skewness\"])\n",
    "for i in range(1, store_num + 1):\n",
    "    \n",
    "    # Mean\n",
    "    mean = (sum(sales[i]) / len(sales[i])).round(2)\n",
    "    result.loc[i][\"Mean\"] = mean\n",
    "    \n",
    "    # Median\n",
    "    result.loc[i][\"Median\"] = sales[i][len(sales[i]) // 2]\n",
    "    \n",
    "    # Skewness\n",
    "    std_deviation = 0\n",
    "    for val in sales[i]:\n",
    "        std_deviation += (val - mean) ** 2\n",
    "    std_deviation = (std_deviation / len(sales[i])) ** 0.5\n",
    "    result.loc[i][\"Skewness\"] = 3 * (mean - result.loc[i][\"Median\"]) / std_deviation\n",
    "\n",
    "result = result.sort_values(by=\"Median\")\n",
    "result"
   ]
  },
  {
   "cell_type": "markdown",
   "id": "6b54cd23",
   "metadata": {},
   "source": [
    "### Result\n",
    "\n",
    "Above all, Many `Skewness` of stores are not approximately Zero (|skewness| < 0.4). Thus, We have to choose `Median`."
   ]
  },
  {
   "cell_type": "markdown",
   "id": "8c2440da",
   "metadata": {},
   "source": [
    "## Grouping\n",
    "Below python code make three group. A, B and C."
   ]
  },
  {
   "cell_type": "code",
   "execution_count": null,
   "id": "a1fffb7a",
   "metadata": {},
   "outputs": [],
   "source": [
    "result.plot(kind=\"hist\", y=\"Median\")\n",
    "result.plot(kind=\"kde\", y=\"Median\")"
   ]
  },
  {
   "cell_type": "code",
   "execution_count": null,
   "id": "18795a5f",
   "metadata": {},
   "outputs": [],
   "source": [
    "def group(c1, c2, data):\n",
    "    A = pd.DataFrame(columns=[\"Store\", \"Median\"])\n",
    "    B = pd.DataFrame(columns=[\"Store\", \"Median\"])\n",
    "    C = pd.DataFrame(columns=[\"Store\", \"Median\"])\n",
    "    \n",
    "    \"\"\"\n",
    "    c1 < c2 is criteria of spliting Weekly_Sales.\n",
    "    A := { x | x in [c2, inf) } \n",
    "    B := { x | x in [c1, c2)  }\n",
    "    C := { x | x in (inf, c1) }\n",
    "    \"\"\"\n",
    "    \n",
    "    for i in range(len(data)):\n",
    "        r = {\"Store\":data.iloc[i], \"Median\"}\n",
    "        if c2 <= data.iloc[i][\"Median\"]:\n",
    "            A.append(ignore_index=True)\n",
    "            \n",
    "            "
   ]
  }
 ],
 "metadata": {
  "kernelspec": {
   "display_name": "Python 3 (ipykernel)",
   "language": "python",
   "name": "python3"
  },
  "language_info": {
   "codemirror_mode": {
    "name": "ipython",
    "version": 3
   },
   "file_extension": ".py",
   "mimetype": "text/x-python",
   "name": "python",
   "nbconvert_exporter": "python",
   "pygments_lexer": "ipython3",
   "version": "3.9.12"
  }
 },
 "nbformat": 4,
 "nbformat_minor": 5
}

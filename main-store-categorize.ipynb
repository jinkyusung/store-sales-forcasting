{
 "cells": [
  {
   "cell_type": "markdown",
   "id": "b491ffaf",
   "metadata": {},
   "source": [
    "----\n",
    "# I. Data preprocessing"
   ]
  },
  {
   "cell_type": "markdown",
   "id": "c6d2034d",
   "metadata": {},
   "source": [
    "## 1. Read dataset"
   ]
  },
  {
   "cell_type": "code",
   "execution_count": 29,
   "id": "128e1c3e",
   "metadata": {
    "scrolled": true
   },
   "outputs": [],
   "source": [
    "import pandas as pd\n",
    "\n",
    "origin_train = pd.read_csv(\"dataset/train.csv\")\n",
    "origin_test = pd.read_csv(\"dataset/test.csv\")\n",
    "submission = pd.read_csv(\"dataset/sample_submission.csv\")"
   ]
  },
  {
   "cell_type": "markdown",
   "id": "cfdbfaac",
   "metadata": {},
   "source": [
    "## 2. Missing values handling"
   ]
  },
  {
   "cell_type": "markdown",
   "id": "d8a8a773",
   "metadata": {},
   "source": [
    "### a) `train.csv`"
   ]
  },
  {
   "cell_type": "code",
   "execution_count": 30,
   "id": "2685bc8a",
   "metadata": {
    "scrolled": true
   },
   "outputs": [],
   "source": [
    "def means(df):\n",
    "    res = {}\n",
    "    for i in range(1, 6):\n",
    "        res[f\"Promotion{i}\"] = df[f\"Promotion{i}\"].mean()\n",
    "    return res\n",
    "\n",
    "\n",
    "def medians(df):\n",
    "    res = {}\n",
    "    for i in range(1, 6):\n",
    "        res[f\"Promotion{i}\"] = df[f\"Promotion{i}\"].median()\n",
    "    return res\n",
    "\n",
    "\n",
    "train = origin_train.fillna(0)"
   ]
  },
  {
   "cell_type": "markdown",
   "id": "43c34093",
   "metadata": {},
   "source": [
    "### b) `test.csv`"
   ]
  },
  {
   "cell_type": "code",
   "execution_count": 31,
   "id": "4d62391c",
   "metadata": {
    "scrolled": true
   },
   "outputs": [],
   "source": [
    "test = origin_test.fillna(value=means(origin_test))"
   ]
  },
  {
   "cell_type": "markdown",
   "id": "f7ffd826",
   "metadata": {},
   "source": [
    "## 3. Data manipulation"
   ]
  },
  {
   "cell_type": "markdown",
   "id": "8faea470",
   "metadata": {},
   "source": [
    "### a) `Date`"
   ]
  },
  {
   "cell_type": "code",
   "execution_count": 32,
   "id": "0243e7c5",
   "metadata": {
    "scrolled": true
   },
   "outputs": [],
   "source": [
    "import datetime as dt\n",
    "\n",
    "\n",
    "def date_to_week(date):\n",
    "    day, month, year = map(int, date.split('/'))\n",
    "    t = dt.datetime(year, month, day) - dt.datetime(2010, 2, 5)\n",
    "    return int(t.days // 7)\n",
    "\n",
    "\n",
    "def date_split(date):\n",
    "    return tuple(map(int, date.split('/')))\n",
    "\n",
    "\n",
    "# train\n",
    "origin_train['Week'] = origin_train['Date'].apply(date_to_week)\n",
    "train[\"Day\"] = train[\"Date\"].apply(lambda x: date_split(x)[0])\n",
    "train[\"Month\"] = train[\"Date\"].apply(lambda x: date_split(x)[1])\n",
    "train[\"Year\"] = train[\"Date\"].apply(lambda x: date_split(x)[2])\n",
    "\n",
    "\n",
    "# test\n",
    "origin_test['Week'] = origin_test['Date'].apply(date_to_week)\n",
    "test[\"Day\"] = test[\"Date\"].apply(lambda x: date_split(x)[0])\n",
    "test[\"Month\"] = test[\"Date\"].apply(lambda x: date_split(x)[1])\n",
    "test[\"Year\"] = test[\"Date\"].apply(lambda x: date_split(x)[2])"
   ]
  },
  {
   "cell_type": "markdown",
   "id": "9ea7d458",
   "metadata": {},
   "source": [
    "### b) `IsHoliday`"
   ]
  },
  {
   "cell_type": "code",
   "execution_count": 33,
   "id": "515e1b8a",
   "metadata": {
    "scrolled": true
   },
   "outputs": [],
   "source": [
    "# trian\n",
    "train[\"IsHoliday\"] = train[\"IsHoliday\"].apply(int)\n",
    "\n",
    "# test\n",
    "test[\"IsHoliday\"] = test[\"IsHoliday\"].apply(int)"
   ]
  },
  {
   "cell_type": "markdown",
   "id": "9a7b42a4",
   "metadata": {},
   "source": [
    "### c) `Store`"
   ]
  },
  {
   "cell_type": "code",
   "execution_count": 34,
   "id": "9d2994cd",
   "metadata": {
    "scrolled": true
   },
   "outputs": [
    {
     "data": {
      "text/html": [
       "<div>\n",
       "<style scoped>\n",
       "    .dataframe tbody tr th:only-of-type {\n",
       "        vertical-align: middle;\n",
       "    }\n",
       "\n",
       "    .dataframe tbody tr th {\n",
       "        vertical-align: top;\n",
       "    }\n",
       "\n",
       "    .dataframe thead th {\n",
       "        text-align: right;\n",
       "    }\n",
       "</style>\n",
       "<table border=\"1\" class=\"dataframe\">\n",
       "  <thead>\n",
       "    <tr style=\"text-align: right;\">\n",
       "      <th></th>\n",
       "      <th>id</th>\n",
       "      <th>Date</th>\n",
       "      <th>Temperature</th>\n",
       "      <th>Fuel_Price</th>\n",
       "      <th>Promotion1</th>\n",
       "      <th>Promotion2</th>\n",
       "      <th>Promotion3</th>\n",
       "      <th>Promotion4</th>\n",
       "      <th>Promotion5</th>\n",
       "      <th>Unemployment</th>\n",
       "      <th>...</th>\n",
       "      <th>Store_38</th>\n",
       "      <th>Store_39</th>\n",
       "      <th>Store_40</th>\n",
       "      <th>Store_41</th>\n",
       "      <th>Store_42</th>\n",
       "      <th>Store_43</th>\n",
       "      <th>Store_44</th>\n",
       "      <th>Store_45</th>\n",
       "      <th>Trend_0</th>\n",
       "      <th>Trend_1</th>\n",
       "    </tr>\n",
       "  </thead>\n",
       "  <tbody>\n",
       "    <tr>\n",
       "      <th>0</th>\n",
       "      <td>1</td>\n",
       "      <td>05/02/2010</td>\n",
       "      <td>42.31</td>\n",
       "      <td>2.572</td>\n",
       "      <td>0.00</td>\n",
       "      <td>0.00</td>\n",
       "      <td>0.00</td>\n",
       "      <td>0.00</td>\n",
       "      <td>0.00</td>\n",
       "      <td>8.106</td>\n",
       "      <td>...</td>\n",
       "      <td>0</td>\n",
       "      <td>0</td>\n",
       "      <td>0</td>\n",
       "      <td>0</td>\n",
       "      <td>0</td>\n",
       "      <td>0</td>\n",
       "      <td>0</td>\n",
       "      <td>0</td>\n",
       "      <td>1</td>\n",
       "      <td>0</td>\n",
       "    </tr>\n",
       "    <tr>\n",
       "      <th>1</th>\n",
       "      <td>2</td>\n",
       "      <td>12/02/2010</td>\n",
       "      <td>38.51</td>\n",
       "      <td>2.548</td>\n",
       "      <td>0.00</td>\n",
       "      <td>0.00</td>\n",
       "      <td>0.00</td>\n",
       "      <td>0.00</td>\n",
       "      <td>0.00</td>\n",
       "      <td>8.106</td>\n",
       "      <td>...</td>\n",
       "      <td>0</td>\n",
       "      <td>0</td>\n",
       "      <td>0</td>\n",
       "      <td>0</td>\n",
       "      <td>0</td>\n",
       "      <td>0</td>\n",
       "      <td>0</td>\n",
       "      <td>0</td>\n",
       "      <td>1</td>\n",
       "      <td>0</td>\n",
       "    </tr>\n",
       "    <tr>\n",
       "      <th>2</th>\n",
       "      <td>3</td>\n",
       "      <td>19/02/2010</td>\n",
       "      <td>39.93</td>\n",
       "      <td>2.514</td>\n",
       "      <td>0.00</td>\n",
       "      <td>0.00</td>\n",
       "      <td>0.00</td>\n",
       "      <td>0.00</td>\n",
       "      <td>0.00</td>\n",
       "      <td>8.106</td>\n",
       "      <td>...</td>\n",
       "      <td>0</td>\n",
       "      <td>0</td>\n",
       "      <td>0</td>\n",
       "      <td>0</td>\n",
       "      <td>0</td>\n",
       "      <td>0</td>\n",
       "      <td>0</td>\n",
       "      <td>0</td>\n",
       "      <td>1</td>\n",
       "      <td>0</td>\n",
       "    </tr>\n",
       "    <tr>\n",
       "      <th>3</th>\n",
       "      <td>4</td>\n",
       "      <td>26/02/2010</td>\n",
       "      <td>46.63</td>\n",
       "      <td>2.561</td>\n",
       "      <td>0.00</td>\n",
       "      <td>0.00</td>\n",
       "      <td>0.00</td>\n",
       "      <td>0.00</td>\n",
       "      <td>0.00</td>\n",
       "      <td>8.106</td>\n",
       "      <td>...</td>\n",
       "      <td>0</td>\n",
       "      <td>0</td>\n",
       "      <td>0</td>\n",
       "      <td>0</td>\n",
       "      <td>0</td>\n",
       "      <td>0</td>\n",
       "      <td>0</td>\n",
       "      <td>0</td>\n",
       "      <td>1</td>\n",
       "      <td>0</td>\n",
       "    </tr>\n",
       "    <tr>\n",
       "      <th>4</th>\n",
       "      <td>5</td>\n",
       "      <td>05/03/2010</td>\n",
       "      <td>46.50</td>\n",
       "      <td>2.625</td>\n",
       "      <td>0.00</td>\n",
       "      <td>0.00</td>\n",
       "      <td>0.00</td>\n",
       "      <td>0.00</td>\n",
       "      <td>0.00</td>\n",
       "      <td>8.106</td>\n",
       "      <td>...</td>\n",
       "      <td>0</td>\n",
       "      <td>0</td>\n",
       "      <td>0</td>\n",
       "      <td>0</td>\n",
       "      <td>0</td>\n",
       "      <td>0</td>\n",
       "      <td>0</td>\n",
       "      <td>0</td>\n",
       "      <td>1</td>\n",
       "      <td>0</td>\n",
       "    </tr>\n",
       "    <tr>\n",
       "      <th>...</th>\n",
       "      <td>...</td>\n",
       "      <td>...</td>\n",
       "      <td>...</td>\n",
       "      <td>...</td>\n",
       "      <td>...</td>\n",
       "      <td>...</td>\n",
       "      <td>...</td>\n",
       "      <td>...</td>\n",
       "      <td>...</td>\n",
       "      <td>...</td>\n",
       "      <td>...</td>\n",
       "      <td>...</td>\n",
       "      <td>...</td>\n",
       "      <td>...</td>\n",
       "      <td>...</td>\n",
       "      <td>...</td>\n",
       "      <td>...</td>\n",
       "      <td>...</td>\n",
       "      <td>...</td>\n",
       "      <td>...</td>\n",
       "      <td>...</td>\n",
       "    </tr>\n",
       "    <tr>\n",
       "      <th>6250</th>\n",
       "      <td>6251</td>\n",
       "      <td>31/08/2012</td>\n",
       "      <td>75.09</td>\n",
       "      <td>3.867</td>\n",
       "      <td>23641.30</td>\n",
       "      <td>6.00</td>\n",
       "      <td>92.93</td>\n",
       "      <td>6988.31</td>\n",
       "      <td>3992.13</td>\n",
       "      <td>8.684</td>\n",
       "      <td>...</td>\n",
       "      <td>0</td>\n",
       "      <td>0</td>\n",
       "      <td>0</td>\n",
       "      <td>0</td>\n",
       "      <td>0</td>\n",
       "      <td>0</td>\n",
       "      <td>0</td>\n",
       "      <td>1</td>\n",
       "      <td>1</td>\n",
       "      <td>0</td>\n",
       "    </tr>\n",
       "    <tr>\n",
       "      <th>6251</th>\n",
       "      <td>6252</td>\n",
       "      <td>07/09/2012</td>\n",
       "      <td>75.70</td>\n",
       "      <td>3.911</td>\n",
       "      <td>11024.45</td>\n",
       "      <td>12.80</td>\n",
       "      <td>52.63</td>\n",
       "      <td>1854.77</td>\n",
       "      <td>2055.70</td>\n",
       "      <td>8.684</td>\n",
       "      <td>...</td>\n",
       "      <td>0</td>\n",
       "      <td>0</td>\n",
       "      <td>0</td>\n",
       "      <td>0</td>\n",
       "      <td>0</td>\n",
       "      <td>0</td>\n",
       "      <td>0</td>\n",
       "      <td>1</td>\n",
       "      <td>1</td>\n",
       "      <td>0</td>\n",
       "    </tr>\n",
       "    <tr>\n",
       "      <th>6252</th>\n",
       "      <td>6253</td>\n",
       "      <td>14/09/2012</td>\n",
       "      <td>67.87</td>\n",
       "      <td>3.948</td>\n",
       "      <td>11407.95</td>\n",
       "      <td>0.00</td>\n",
       "      <td>4.30</td>\n",
       "      <td>3421.72</td>\n",
       "      <td>5268.92</td>\n",
       "      <td>8.684</td>\n",
       "      <td>...</td>\n",
       "      <td>0</td>\n",
       "      <td>0</td>\n",
       "      <td>0</td>\n",
       "      <td>0</td>\n",
       "      <td>0</td>\n",
       "      <td>0</td>\n",
       "      <td>0</td>\n",
       "      <td>1</td>\n",
       "      <td>1</td>\n",
       "      <td>0</td>\n",
       "    </tr>\n",
       "    <tr>\n",
       "      <th>6253</th>\n",
       "      <td>6254</td>\n",
       "      <td>21/09/2012</td>\n",
       "      <td>65.32</td>\n",
       "      <td>4.038</td>\n",
       "      <td>8452.20</td>\n",
       "      <td>92.28</td>\n",
       "      <td>63.24</td>\n",
       "      <td>2376.38</td>\n",
       "      <td>8670.40</td>\n",
       "      <td>8.684</td>\n",
       "      <td>...</td>\n",
       "      <td>0</td>\n",
       "      <td>0</td>\n",
       "      <td>0</td>\n",
       "      <td>0</td>\n",
       "      <td>0</td>\n",
       "      <td>0</td>\n",
       "      <td>0</td>\n",
       "      <td>1</td>\n",
       "      <td>1</td>\n",
       "      <td>0</td>\n",
       "    </tr>\n",
       "    <tr>\n",
       "      <th>6254</th>\n",
       "      <td>6255</td>\n",
       "      <td>28/09/2012</td>\n",
       "      <td>64.88</td>\n",
       "      <td>3.997</td>\n",
       "      <td>4556.61</td>\n",
       "      <td>20.64</td>\n",
       "      <td>1.50</td>\n",
       "      <td>1601.01</td>\n",
       "      <td>3288.25</td>\n",
       "      <td>8.684</td>\n",
       "      <td>...</td>\n",
       "      <td>0</td>\n",
       "      <td>0</td>\n",
       "      <td>0</td>\n",
       "      <td>0</td>\n",
       "      <td>0</td>\n",
       "      <td>0</td>\n",
       "      <td>0</td>\n",
       "      <td>1</td>\n",
       "      <td>1</td>\n",
       "      <td>0</td>\n",
       "    </tr>\n",
       "  </tbody>\n",
       "</table>\n",
       "<p>6255 rows × 62 columns</p>\n",
       "</div>"
      ],
      "text/plain": [
       "        id        Date  Temperature  Fuel_Price  Promotion1  Promotion2  \\\n",
       "0        1  05/02/2010        42.31       2.572        0.00        0.00   \n",
       "1        2  12/02/2010        38.51       2.548        0.00        0.00   \n",
       "2        3  19/02/2010        39.93       2.514        0.00        0.00   \n",
       "3        4  26/02/2010        46.63       2.561        0.00        0.00   \n",
       "4        5  05/03/2010        46.50       2.625        0.00        0.00   \n",
       "...    ...         ...          ...         ...         ...         ...   \n",
       "6250  6251  31/08/2012        75.09       3.867    23641.30        6.00   \n",
       "6251  6252  07/09/2012        75.70       3.911    11024.45       12.80   \n",
       "6252  6253  14/09/2012        67.87       3.948    11407.95        0.00   \n",
       "6253  6254  21/09/2012        65.32       4.038     8452.20       92.28   \n",
       "6254  6255  28/09/2012        64.88       3.997     4556.61       20.64   \n",
       "\n",
       "      Promotion3  Promotion4  Promotion5  Unemployment  ...  Store_38  \\\n",
       "0           0.00        0.00        0.00         8.106  ...         0   \n",
       "1           0.00        0.00        0.00         8.106  ...         0   \n",
       "2           0.00        0.00        0.00         8.106  ...         0   \n",
       "3           0.00        0.00        0.00         8.106  ...         0   \n",
       "4           0.00        0.00        0.00         8.106  ...         0   \n",
       "...          ...         ...         ...           ...  ...       ...   \n",
       "6250       92.93     6988.31     3992.13         8.684  ...         0   \n",
       "6251       52.63     1854.77     2055.70         8.684  ...         0   \n",
       "6252        4.30     3421.72     5268.92         8.684  ...         0   \n",
       "6253       63.24     2376.38     8670.40         8.684  ...         0   \n",
       "6254        1.50     1601.01     3288.25         8.684  ...         0   \n",
       "\n",
       "      Store_39  Store_40  Store_41  Store_42  Store_43  Store_44  Store_45  \\\n",
       "0            0         0         0         0         0         0         0   \n",
       "1            0         0         0         0         0         0         0   \n",
       "2            0         0         0         0         0         0         0   \n",
       "3            0         0         0         0         0         0         0   \n",
       "4            0         0         0         0         0         0         0   \n",
       "...        ...       ...       ...       ...       ...       ...       ...   \n",
       "6250         0         0         0         0         0         0         1   \n",
       "6251         0         0         0         0         0         0         1   \n",
       "6252         0         0         0         0         0         0         1   \n",
       "6253         0         0         0         0         0         0         1   \n",
       "6254         0         0         0         0         0         0         1   \n",
       "\n",
       "      Trend_0  Trend_1  \n",
       "0           1        0  \n",
       "1           1        0  \n",
       "2           1        0  \n",
       "3           1        0  \n",
       "4           1        0  \n",
       "...       ...      ...  \n",
       "6250        1        0  \n",
       "6251        1        0  \n",
       "6252        1        0  \n",
       "6253        1        0  \n",
       "6254        1        0  \n",
       "\n",
       "[6255 rows x 62 columns]"
      ]
     },
     "execution_count": 34,
     "metadata": {},
     "output_type": "execute_result"
    }
   ],
   "source": [
    "diff = [28,30,33,35,36,38,42,43,44]\n",
    "diff = [36, 38, 44]\n",
    "\n",
    "\n",
    "def trend_check(store):\n",
    "    if store in diff:\n",
    "        return 1\n",
    "    return 0\n",
    "\n",
    "\n",
    "train['Trend'] = train['Store'].apply(trend_check)\n",
    "test['Trend'] = test['Store'].apply(trend_check)\n",
    "\n",
    "train = pd.get_dummies(data=train, columns=['Store'])\n",
    "train = pd.get_dummies(data=train, columns=['Trend'])\n",
    "\n",
    "test = pd.get_dummies(data=test, columns=['Store'])\n",
    "test = pd.get_dummies(data=test, columns=['Trend'])\n",
    "\n",
    "train"
   ]
  },
  {
   "cell_type": "markdown",
   "id": "1d62e66f",
   "metadata": {},
   "source": [
    "### d) `Promotion1`, ... , `Promotion5`"
   ]
  },
  {
   "cell_type": "code",
   "execution_count": 35,
   "id": "5e0daf11",
   "metadata": {
    "scrolled": true
   },
   "outputs": [],
   "source": [
    "# Scaling\n",
    "from sklearn.preprocessing import RobustScaler\n",
    "\n",
    "\n",
    "promos = ['Promotion1','Promotion2','Promotion3','Promotion4','Promotion5']\n",
    "\n",
    "scaler = RobustScaler()\n",
    "scaler.fit(train[promos])\n",
    "train[promos] = scaler.transform(train[promos])\n",
    "test[promos] = scaler.transform(test[promos])"
   ]
  },
  {
   "cell_type": "markdown",
   "id": "f9b9f1dc",
   "metadata": {},
   "source": [
    "### e) `Weekly_Sales`"
   ]
  },
  {
   "cell_type": "code",
   "execution_count": 36,
   "id": "23be48c5",
   "metadata": {
    "scrolled": true
   },
   "outputs": [],
   "source": [
    "import numpy as np\n",
    "\n",
    "\n",
    "train[\"Weekly_Sales\"] = np.log1p(train[\"Weekly_Sales\"])"
   ]
  },
  {
   "cell_type": "markdown",
   "id": "c85389a7",
   "metadata": {},
   "source": [
    "## 4. Remove not using features"
   ]
  },
  {
   "cell_type": "code",
   "execution_count": 37,
   "id": "df8eb49f",
   "metadata": {
    "scrolled": true
   },
   "outputs": [],
   "source": [
    "removes = ['id','Date','Temperature','Fuel_Price'] + promos\n",
    "\n",
    "train = train.drop(columns=removes)\n",
    "test = test.drop(columns=removes)"
   ]
  },
  {
   "cell_type": "markdown",
   "id": "4806e6df",
   "metadata": {},
   "source": [
    "----\n",
    "# II. Modeling"
   ]
  },
  {
   "cell_type": "markdown",
   "id": "883f106b",
   "metadata": {},
   "source": [
    "## 1. Divide `train.csv` into training data and for predicting data"
   ]
  },
  {
   "cell_type": "code",
   "execution_count": 38,
   "id": "78b4e75c",
   "metadata": {
    "scrolled": true
   },
   "outputs": [],
   "source": [
    "x_train = train.drop(columns=[\"Weekly_Sales\"])\n",
    "y_train = train[\"Weekly_Sales\"]"
   ]
  },
  {
   "cell_type": "markdown",
   "id": "95e9b2dc",
   "metadata": {},
   "source": [
    "## 2. Choose a suitable model"
   ]
  },
  {
   "cell_type": "code",
   "execution_count": 39,
   "id": "74027679",
   "metadata": {
    "scrolled": true
   },
   "outputs": [],
   "source": [
    "predictions = {}"
   ]
  },
  {
   "cell_type": "markdown",
   "id": "cd684312",
   "metadata": {},
   "source": [
    "### a) XGBoost"
   ]
  },
  {
   "cell_type": "code",
   "execution_count": null,
   "id": "2d80b9e6",
   "metadata": {
    "scrolled": true
   },
   "outputs": [],
   "source": [
    "import time\n",
    "import xgboost as xgb\n",
    "\n",
    "\n",
    "start_t = time.time()\n",
    "\n",
    "model = xgb.XGBRegressor(\n",
    "    objective='reg:squarederror', \n",
    "    learning_rate=0.1, \n",
    "    max_depth = 7, \n",
    "    n_estimators = 1000\n",
    ")\n",
    "model.fit(x_train, y_train)\n",
    "\n",
    "y_pred = np.expm1(model.predict(test))\n",
    "predictions[\"XGBoost\"] = y_pred\n",
    "\n",
    "\n",
    "print(f\"[XGBoost] => time: {round(time.time() - start_t, 2)}(sec)\")\n",
    "print(f\"{y_pred[0]}, {y_pred[1]}, ... , {y_pred[-1]}\")"
   ]
  },
  {
   "cell_type": "code",
   "execution_count": null,
   "id": "86414931",
   "metadata": {
    "scrolled": true
   },
   "outputs": [],
   "source": [
    "import matplotlib.pyplot as plt\n",
    "\n",
    "\n",
    "def split(df):\n",
    "    store = {}\n",
    "    for i in range(1, 46):\n",
    "        store[i] = df[df['Store'] == i]\n",
    "    return store\n",
    "\n",
    "\n",
    "past = split(origin_train)\n",
    "tmp = origin_test.copy()\n",
    "tmp['Weekly_Sales_Pred'] = y_pred\n",
    "future = split(tmp)\n",
    "fig = plt.figure(figsize=(20, 150))\n",
    "for i in range(1, 46):\n",
    "    ax = fig.add_subplot(45, 1, i)\n",
    "    ax.set_title(f\"store{i}\",fontdict={'fontsize': 16,'fontweight':'bold'})\n",
    "    \n",
    "    markers, stemlines, _ = ax.stem(past[i]['Week'], past[i]['Weekly_Sales'])\n",
    "    markers.set_color('gray')\n",
    "    stemlines.set_color('gray')\n",
    "    \n",
    "    markers, stemlines, _ = ax.stem(future[i]['Week'], future[i]['Weekly_Sales_Pred'])\n",
    "    markers.set_color('coral')\n",
    "    stemlines.set_color('coral')\n",
    "    if i in diff:\n",
    "        markers.set_color('yellowgreen')\n",
    "        stemlines.set_color('yellowgreen')\n",
    "    \n",
    "    _, ymax = plt.ylim()\n",
    "    ymin = min(past[i]['Weekly_Sales'].min(), future[i]['Weekly_Sales_Pred'].min()) * 0.9\n",
    "    plt.ylim(ymin, ymax)\n",
    "    \n",
    "plt.show()\n"
   ]
  },
  {
   "cell_type": "markdown",
   "id": "e71a880c",
   "metadata": {},
   "source": [
    "----\n",
    "# III. Submission"
   ]
  },
  {
   "cell_type": "code",
   "execution_count": null,
   "id": "3cf6f200",
   "metadata": {
    "scrolled": true
   },
   "outputs": [],
   "source": [
    "import os\n",
    "\n",
    "\n",
    "def name(integer):\n",
    "    return str(integer).zfill(2)\n",
    "\n",
    "\n",
    "savetime = dt.datetime.now()\n",
    "folder = \"-\".join(map(name, [savetime.year, savetime.month, savetime.day]))\n",
    "sub_folder = name(savetime.hour) + '：' + name(savetime.minute) + '：' + name(savetime.second)\n",
    "\n",
    "for model in predictions:\n",
    "    submission[\"Weekly_Sales\"] = predictions[model]\n",
    "    os.makedirs(f\"dataset/submissions/{folder}\", exist_ok=True)\n",
    "    submission.to_csv(f\"dataset/submissions/{folder}/{sub_folder+' ('+model+')'}.csv\", index=False)\n",
    "print(f\"[Done!] Create {len(predictions)} csv file(s)\")"
   ]
  },
  {
   "cell_type": "code",
   "execution_count": null,
   "id": "e4af93dc",
   "metadata": {
    "scrolled": true
   },
   "outputs": [],
   "source": []
  }
 ],
 "metadata": {
  "kernelspec": {
   "display_name": "Python 3 (ipykernel)",
   "language": "python",
   "name": "python3"
  },
  "language_info": {
   "codemirror_mode": {
    "name": "ipython",
    "version": 3
   },
   "file_extension": ".py",
   "mimetype": "text/x-python",
   "name": "python",
   "nbconvert_exporter": "python",
   "pygments_lexer": "ipython3",
   "version": "3.9.12"
  }
 },
 "nbformat": 4,
 "nbformat_minor": 5
}
